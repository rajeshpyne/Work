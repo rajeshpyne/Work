{
 "cells": [
  {
   "cell_type": "markdown",
   "metadata": {},
   "source": [
    "### Static Keyword"
   ]
  },
  {
   "cell_type": "markdown",
   "metadata": {},
   "source": [
    "#### What is a static keyword in Java?\n",
    "\n",
    "In Java, if we want to access class members, we must first create an instance of the class. But there will be situations where we want to access class members without creating any variables.\n",
    "\n",
    "In those situations, we can use the static keyword in Java. If we want to access class members without creating an instance of the class, we need to declare the class members static.\n",
    "\n",
    "The Math class in Java has almost all of its members static. So, we can access its members without creating instances of the Math class. For example,\n",
    "<pre><code>\n",
    "public class Main {\n",
    "    public static void main( String[] args ) {\n",
    "\n",
    "        // accessing the methods of the Math class\n",
    "        System.out.println(\"Absolute value of -12 =  \" + Math.abs(-12));\n",
    "        System.out.println(\"Value of PI = \" + Math.PI);\n",
    "        System.out.println(\"Value of E = \" + Math.E);\n",
    "        System.out.println(\"2^2 = \" + Math.pow(2,2));\n",
    "    }\n",
    "}\n",
    "</code></pre>\n",
    "#### Output\n",
    "    Absolute value of -12 = 12\n",
    "    Value of PI = 3.141592653589793\n",
    "    Value of E = 2.718281828459045\n",
    "    2^2 = 4.0\n",
    "\n",
    "In the above example, we have not created any instances of the Math class. But we are able to access its methods: <code>abs()</code> and <code>pow()</code> and variables: <code>PI</code> and <code>E</code>.\n",
    "\n",
    "It is possible because the methods and variables of the Math class are static."
   ]
  },
  {
   "cell_type": "markdown",
   "metadata": {},
   "source": [
    "### Static Methods\n",
    "\n",
    "Static methods are also called class methods. It is because a static method belongs to the class rather than the object of a class.\n",
    "\n",
    "And we can invoke static methods directly using the class name. For example,\n",
    "<pre><code>\n",
    "class Test {\n",
    "    // static method inside the Test class\n",
    "    public static void method() {...}\n",
    "}\n",
    "\n",
    "class Main {\n",
    "    // invoking the static method\n",
    "    Test.method();\n",
    "}\n",
    "</code></pre>\n",
    "\n",
    "Here, we can see that the static method can be accessed directly from other classes using the class name.\n",
    "\n",
    "In every Java program, we have declared the <code>main</code> method <code>static</code>. It is because to run the program the JVM should be able to invoke the main method during the initial phase where no objects exist in the memory."
   ]
  },
  {
   "cell_type": "markdown",
   "metadata": {},
   "source": [
    "### Example 1: Java static and non-static Methods\n",
    "\n",
    "<pre><code>\n",
    "class StaticTest {\n",
    "\n",
    "    // non-static method\n",
    "    int multiply(int a, int b){\n",
    "        return a * b;\n",
    "    }\n",
    "\n",
    "    // static method\n",
    "    static int add(int a, int b){\n",
    "        return a + b;\n",
    "    }\n",
    "}\n",
    "\n",
    "public class Main {\n",
    "\n",
    "   public static void main( String[] args ) {\n",
    "\n",
    "        // create an instance of the StaticTest class\n",
    "        StaticTest st = new StaticTest();\n",
    "\n",
    "        // call the nonstatic method\n",
    "        System.out.println(\" 2 * 2 = \" + st.multiply(2,2));\n",
    "\n",
    "        // call the static method\n",
    "        System.out.println(\" 2 + 3 = \" + StaticTest.add(2,3));\n",
    "   }\n",
    "}\n",
    "</code></pre>\n",
    "\n",
    "### Output\n",
    "    2 * 2 = 4\n",
    "    2 + 3 = 5\n",
    "    \n",
    "In the above program, we have declared a non-static method named <code>multiply()</code> and a static method named <code>add()</code> inside the class <code>StaticTest</code>.\n",
    "\n",
    "Inside the Main class, we can see that we are calling the non-static method using the object of the class <code>(st.multiply(2, 2))</code>. However, we are calling the static method by using the class name <code>(StaticTest.add(2, 3))</code>."
   ]
  },
  {
   "cell_type": "code",
   "execution_count": null,
   "metadata": {},
   "outputs": [],
   "source": []
  }
 ],
 "metadata": {
  "kernelspec": {
   "display_name": "Python 3",
   "language": "python",
   "name": "python3"
  },
  "language_info": {
   "codemirror_mode": {
    "name": "ipython",
    "version": 3
   },
   "file_extension": ".py",
   "mimetype": "text/x-python",
   "name": "python",
   "nbconvert_exporter": "python",
   "pygments_lexer": "ipython3",
   "version": "3.6.2"
  }
 },
 "nbformat": 4,
 "nbformat_minor": 4
}
